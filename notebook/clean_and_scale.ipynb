{
 "cells": [
  {
   "cell_type": "code",
   "execution_count": 2,
   "id": "4aace2cb",
   "metadata": {},
   "outputs": [],
   "source": [
    "import pandas as pd\n",
    "\n",
    "pd.set_option('display.float_format', '{:.2f}'.format)"
   ]
  },
  {
   "cell_type": "markdown",
   "id": "a936f824",
   "metadata": {},
   "source": [
    "# 1. Tổng quan dữ liệu"
   ]
  },
  {
   "cell_type": "markdown",
   "id": "75ae7c5a",
   "metadata": {},
   "source": [
    "Load"
   ]
  },
  {
   "cell_type": "code",
   "execution_count": 3,
   "id": "31bcb50a",
   "metadata": {},
   "outputs": [],
   "source": [
    "df = pd.read_csv('../data/raw.csv')"
   ]
  },
  {
   "cell_type": "markdown",
   "id": "ca8dfe4b",
   "metadata": {},
   "source": [
    "Cấu trúc"
   ]
  },
  {
   "cell_type": "code",
   "execution_count": 4,
   "id": "d088385f",
   "metadata": {},
   "outputs": [
    {
     "data": {
      "text/html": [
       "<div>\n",
       "<style scoped>\n",
       "    .dataframe tbody tr th:only-of-type {\n",
       "        vertical-align: middle;\n",
       "    }\n",
       "\n",
       "    .dataframe tbody tr th {\n",
       "        vertical-align: top;\n",
       "    }\n",
       "\n",
       "    .dataframe thead th {\n",
       "        text-align: right;\n",
       "    }\n",
       "</style>\n",
       "<table border=\"1\" class=\"dataframe\">\n",
       "  <thead>\n",
       "    <tr style=\"text-align: right;\">\n",
       "      <th></th>\n",
       "      <th>url</th>\n",
       "      <th>ten_san_pham</th>\n",
       "      <th>ngay_dang</th>\n",
       "      <th>nam_sx</th>\n",
       "      <th>nhien_lieu</th>\n",
       "      <th>kieu_dang</th>\n",
       "      <th>tinh_trang</th>\n",
       "      <th>so_km</th>\n",
       "      <th>hop_so</th>\n",
       "      <th>xuat_xu</th>\n",
       "      <th>dia_diem</th>\n",
       "      <th>gia_ban</th>\n",
       "    </tr>\n",
       "  </thead>\n",
       "  <tbody>\n",
       "    <tr>\n",
       "      <th>0</th>\n",
       "      <td>https://oto.com.vn/mua-ban-xe-toyota-corolla-a...</td>\n",
       "      <td>Toyota Corolla Altis 1.8 G 2019</td>\n",
       "      <td>09/10/2025</td>\n",
       "      <td>2019</td>\n",
       "      <td>Máy xăng</td>\n",
       "      <td>Sedan</td>\n",
       "      <td>Xe cũ</td>\n",
       "      <td>85.000 km</td>\n",
       "      <td>Số tự động</td>\n",
       "      <td>Trong nước</td>\n",
       "      <td>Hóc Môn - Tp.HCM</td>\n",
       "      <td>485 triệu</td>\n",
       "    </tr>\n",
       "    <tr>\n",
       "      <th>1</th>\n",
       "      <td>https://oto.com.vn/mua-ban-xe-hyundai-accent-h...</td>\n",
       "      <td>Hyundai Accent 1.4 MT Tiêu chuẩn 2022</td>\n",
       "      <td>26/10/2025</td>\n",
       "      <td>2022</td>\n",
       "      <td>Máy xăng</td>\n",
       "      <td>Sedan</td>\n",
       "      <td>Xe cũ</td>\n",
       "      <td>21.000 km</td>\n",
       "      <td>Số sàn</td>\n",
       "      <td>Trong nước</td>\n",
       "      <td>Tp.HCM</td>\n",
       "      <td>345 triệu</td>\n",
       "    </tr>\n",
       "    <tr>\n",
       "      <th>2</th>\n",
       "      <td>https://oto.com.vn/mua-ban-xe-toyota-innova-hc...</td>\n",
       "      <td>Toyota Innova 2.0G 2012</td>\n",
       "      <td>23/10/2025</td>\n",
       "      <td>2012</td>\n",
       "      <td>Máy xăng</td>\n",
       "      <td>MPV</td>\n",
       "      <td>Xe cũ</td>\n",
       "      <td>150.000 km</td>\n",
       "      <td>Số tự động</td>\n",
       "      <td>Nhập khẩu</td>\n",
       "      <td>Tp.HCM</td>\n",
       "      <td>350 triệu</td>\n",
       "    </tr>\n",
       "    <tr>\n",
       "      <th>3</th>\n",
       "      <td>https://oto.com.vn/mua-ban-xe-vinfast-lux-a20-...</td>\n",
       "      <td>VinFast LUX A2.0 Cao cấp 2021</td>\n",
       "      <td>22/10/2025</td>\n",
       "      <td>2021</td>\n",
       "      <td>Máy xăng</td>\n",
       "      <td>Sedan</td>\n",
       "      <td>Xe cũ</td>\n",
       "      <td>57.000 km</td>\n",
       "      <td>Số tự động</td>\n",
       "      <td>Trong nước</td>\n",
       "      <td>Tp.HCM</td>\n",
       "      <td>495 triệu</td>\n",
       "    </tr>\n",
       "    <tr>\n",
       "      <th>4</th>\n",
       "      <td>https://oto.com.vn/mua-ban-xe-toyota-camry-hcm...</td>\n",
       "      <td>Toyota Camry 2.5Q 2019</td>\n",
       "      <td>23/10/2025</td>\n",
       "      <td>2019</td>\n",
       "      <td>Máy xăng</td>\n",
       "      <td>Sedan</td>\n",
       "      <td>Xe cũ</td>\n",
       "      <td>99.892 km</td>\n",
       "      <td>Số tự động</td>\n",
       "      <td>Nhập khẩu</td>\n",
       "      <td>Hóc Môn - Tp.HCM</td>\n",
       "      <td>810 triệu</td>\n",
       "    </tr>\n",
       "  </tbody>\n",
       "</table>\n",
       "</div>"
      ],
      "text/plain": [
       "                                                 url  \\\n",
       "0  https://oto.com.vn/mua-ban-xe-toyota-corolla-a...   \n",
       "1  https://oto.com.vn/mua-ban-xe-hyundai-accent-h...   \n",
       "2  https://oto.com.vn/mua-ban-xe-toyota-innova-hc...   \n",
       "3  https://oto.com.vn/mua-ban-xe-vinfast-lux-a20-...   \n",
       "4  https://oto.com.vn/mua-ban-xe-toyota-camry-hcm...   \n",
       "\n",
       "                            ten_san_pham   ngay_dang  nam_sx nhien_lieu  \\\n",
       "0        Toyota Corolla Altis 1.8 G 2019  09/10/2025    2019   Máy xăng   \n",
       "1  Hyundai Accent 1.4 MT Tiêu chuẩn 2022  26/10/2025    2022   Máy xăng   \n",
       "2                Toyota Innova 2.0G 2012  23/10/2025    2012   Máy xăng   \n",
       "3          VinFast LUX A2.0 Cao cấp 2021  22/10/2025    2021   Máy xăng   \n",
       "4                 Toyota Camry 2.5Q 2019  23/10/2025    2019   Máy xăng   \n",
       "\n",
       "  kieu_dang tinh_trang       so_km      hop_so     xuat_xu          dia_diem  \\\n",
       "0     Sedan      Xe cũ   85.000 km  Số tự động  Trong nước  Hóc Môn - Tp.HCM   \n",
       "1     Sedan      Xe cũ   21.000 km      Số sàn  Trong nước            Tp.HCM   \n",
       "2       MPV      Xe cũ  150.000 km  Số tự động   Nhập khẩu            Tp.HCM   \n",
       "3     Sedan      Xe cũ   57.000 km  Số tự động  Trong nước            Tp.HCM   \n",
       "4     Sedan      Xe cũ   99.892 km  Số tự động   Nhập khẩu  Hóc Môn - Tp.HCM   \n",
       "\n",
       "     gia_ban  \n",
       "0  485 triệu  \n",
       "1  345 triệu  \n",
       "2  350 triệu  \n",
       "3  495 triệu  \n",
       "4  810 triệu  "
      ]
     },
     "execution_count": 4,
     "metadata": {},
     "output_type": "execute_result"
    }
   ],
   "source": [
    "df.head()"
   ]
  },
  {
   "cell_type": "code",
   "execution_count": 5,
   "id": "877ab077",
   "metadata": {},
   "outputs": [
    {
     "name": "stdout",
     "output_type": "stream",
     "text": [
      "<class 'pandas.core.frame.DataFrame'>\n",
      "RangeIndex: 5900 entries, 0 to 5899\n",
      "Data columns (total 12 columns):\n",
      " #   Column        Non-Null Count  Dtype \n",
      "---  ------        --------------  ----- \n",
      " 0   url           5900 non-null   object\n",
      " 1   ten_san_pham  5900 non-null   object\n",
      " 2   ngay_dang     5900 non-null   object\n",
      " 3   nam_sx        5900 non-null   int64 \n",
      " 4   nhien_lieu    5900 non-null   object\n",
      " 5   kieu_dang     5722 non-null   object\n",
      " 6   tinh_trang    5900 non-null   object\n",
      " 7   so_km         5900 non-null   object\n",
      " 8   hop_so        5900 non-null   object\n",
      " 9   xuat_xu       5805 non-null   object\n",
      " 10  dia_diem      5900 non-null   object\n",
      " 11  gia_ban       5900 non-null   object\n",
      "dtypes: int64(1), object(11)\n",
      "memory usage: 553.2+ KB\n"
     ]
    }
   ],
   "source": [
    "df.info()"
   ]
  },
  {
   "cell_type": "markdown",
   "id": "715e421b",
   "metadata": {},
   "source": [
    "Giá trị một số trường"
   ]
  },
  {
   "cell_type": "code",
   "execution_count": 6,
   "id": "2c38be54",
   "metadata": {},
   "outputs": [
    {
     "name": "stdout",
     "output_type": "stream",
     "text": [
      "nhien_lieu: {'Máy xăng': 4755, 'Máy dầu': 727, 'Điện': 293, 'Hybrid': 122, 'Loại khác': 2, 'SUV': 1}\n",
      "\n",
      "kieu_dang: {'SUV': 2084, 'Sedan': 1694, 'MPV': 563, 'Hatchback': 538, 'Bán tải': 298, 'Crossover': 258, 'Van/Minivan': 114, 'Xe tải': 96, 'Coupe': 28, 'Sport Car': 17, 'Convertible': 16, 'Minibus': 14, 'Wagon': 1, 'Special Purpose': 1}\n",
      "\n",
      "tinh_trang: {'Xe cũ': 4846, 'Xe mới': 1054}\n",
      "\n",
      "hop_so: {'Số tự động': 5053, 'Số sàn': 843, 'Số hỗn hợp': 3, 'Nhập khẩu': 1}\n",
      "\n",
      "xuat_xu: {'Trong nước': 3054, 'Nhập khẩu': 2751}\n",
      "\n",
      "dia_diem: {'Tp.HCM': 848, 'Hà Nội': 744, 'Bình Dương': 377, 'Đà Nẵng': 288, 'Quận 7 - Tp.HCM': 215, 'Kiến An - Hải Phòng': 214, 'Thuận An - Bình Dương': 209, 'Thủ Đức - Tp.HCM': 195, 'Cầu Giấy - Hà Nội': 189, 'An Lão - Hải Phòng': 166, 'Long Biên - Hà Nội': 143, 'Hải Phòng': 121, 'Dĩ An - Bình Dương': 117, 'Nam Từ Liêm - Hà Nội': 114, 'Gò Vấp - Tp.HCM': 113, 'Tân Phú - Tp.HCM': 108, 'Thanh Xuân - Hà Nội': 99, 'Hoàng Mai - Hà Nội': 76, 'Bắc Từ Liêm - Hà Nội': 69, 'Nghệ An': 67, 'Đông Sơn - Thanh Hóa': 67, 'Hà Đông - Hà Nội': 63, 'Quận 1 - Tp.HCM': 58, 'Bình Tân - Tp.HCM': 57, 'Ngô Quyền - Hải Phòng': 54, 'Quận 2 - Tp.HCM': 52, 'Tây Hồ - Hà Nội': 50, 'Bình Thạnh - Tp.HCM': 49, 'Thanh Hóa': 47, 'Vinh - Nghệ An': 46, 'Quận 12 - Tp.HCM': 45, 'Hải Châu - Đà Nẵng': 44, 'Đông Anh - Hà Nội': 43, 'Bình Chánh - Tp.HCM': 43, 'Bắc Ninh - Bắc Ninh': 42, 'Đống Đa - Hà Nội': 39, 'Phú Nhuận - Tp.HCM': 37, 'Bắc Ninh': 30, 'Hồng Bàng - Hải Phòng': 29, 'Hai Bà Trưng - Hà Nội': 28, 'Quận 8 - Tp.HCM': 22, 'Hoàn Kiếm - Hà Nội': 22, 'Hải An - Hải Phòng': 21, 'Quận 3 - Tp.HCM': 21, 'An Dương - Hải Phòng': 19, 'Đồ Sơn - Hải Phòng': 19, 'Cẩm Lệ - Đà Nẵng': 19, 'Quận 9 - Tp.HCM': 19, 'Quận 10 - Tp.HCM': 18, 'Ba Đình - Hà Nội': 15, 'Hòa Vang - Đà Nẵng': 14, 'Thủ Dầu Một - Bình Dương': 14, 'Ngũ Hành Sơn - Đà Nẵng': 14, 'Bắc Tân Uyên - Bình Dương': 13, 'Sóc Sơn - Hà Nội': 13, 'Hóc Môn - Tp.HCM': 13, 'Từ Sơn - Bắc Ninh': 12, 'Tân Bình - Tp.HCM': 12, 'Quốc Oai - Hà Nội': 12, 'Mê Linh - Hà Nội': 11, 'Thanh Khê - Đà Nẵng': 10, 'Quận 6 - Tp.HCM': 10, 'Bến Cát - Bình Dương': 10, 'Thuận Thành - Bắc Ninh': 10, 'Tân Uyên - Bình Dương': 10, 'Quế Võ - Bắc Ninh': 10, 'Thanh Trì - Hà Nội': 9, 'Gia Lâm - Hà Nội': 6, 'Thanh Hóa - Thanh Hóa': 5, 'Tiên Du - Bắc Ninh': 5, 'Thanh Trì - Tp.HCM': 4, 'Liên Chiểu - Đà Nẵng': 4, 'Sơn Trà - Đà Nẵng': 4, 'Chơn Thành - Bình Dương': 4, 'Hai Bà Trưng - Đà Nẵng': 4, 'Thủ Dầu Một - Tp.HCM': 4, 'Hoài Đức - Hà Nội': 4, 'Gia Bình - Bắc Ninh': 3, 'Tĩnh Gia - Thanh Hóa': 3, 'Triệu Sơn - Thanh Hóa': 3, 'Quận 11 - Tp.HCM': 3, 'Lê Chân - Hải Phòng': 3, 'Quận 5 - Tp.HCM': 2, 'Long Biên - Tp.HCM': 2, 'Thanh Xuân - Tp.HCM': 2, 'Dĩ An - Tp.HCM': 2, 'Nhà Bè - Tp.HCM': 2, 'Thanh Oai - Hà Nội': 2, 'Nông Cống - Thanh Hóa': 2, 'Kiến Thụy - Hải Phòng': 2, 'Dương Kinh - Hải Phòng': 2, 'Thạch Thất - Hà Nội': 2, 'Phú Giáo - Bình Dương': 2, 'Sơn Tây - Hà Nội': 2, 'Hà Trung - Thanh Hóa': 2, 'Quảng Xương - Thanh Hóa': 2, 'Củ Chi - Tp.HCM': 2, 'Tây Hồ - Tp.HCM': 1, 'Thủ Đức - Hà Nội': 1, 'Bến Cát - Tp.HCM': 1, 'Mỹ Đức - Hà Nội': 1, 'Thường Tín - Hà Nội': 1, 'Cần Giờ - Tp.HCM': 1, 'Thọ Xuân - Thanh Hóa': 1, 'Thường Tín - Tp.HCM': 1, 'Thới Lai - Bình Dương': 1, 'Thanh Hóa - Nghệ An': 1, 'Hoàng Mai - Nghệ An': 1, 'Đô Lương - Nghệ An': 1, 'Dầu Tiếng - Bình Dương': 1, 'Phú Xuyên - Bình Dương': 1, 'Nậm Pồ - Bình Dương': 1, 'Thủy Nguyên - Hải Phòng': 1, 'Tân Uyên - Tp.HCM': 1, 'Quận 6 - Đà Nẵng': 1, 'Vĩnh Thạnh - Tp.HCM': 1, 'Điện Bàn - Đà Nẵng': 1, 'Tân Phước - Đà Nẵng': 1, 'Tĩnh Gia - Đà Nẵng': 1, 'Nam Từ Liêm - Tp.HCM': 1, 'Xuyên Mộc - Đà Nẵng': 1}\n",
      "\n"
     ]
    }
   ],
   "source": [
    "object_fields = df.drop(columns=['url', 'ngay_dang', 'ten_san_pham', \"so_km\", \"gia_ban\"]).select_dtypes(object).columns\n",
    "\n",
    "for field in object_fields:\n",
    "    print(f'{field}: {df[field].value_counts().to_dict()}\\n')"
   ]
  },
  {
   "cell_type": "markdown",
   "id": "d660f666",
   "metadata": {},
   "source": [
    "Ngày đăng"
   ]
  },
  {
   "cell_type": "code",
   "execution_count": 7,
   "id": "e40c0832",
   "metadata": {},
   "outputs": [
    {
     "name": "stdout",
     "output_type": "stream",
     "text": [
      "First day: 2025-02-13 00:00:00\n",
      "Last day: 2025-10-26 00:00:00\n"
     ]
    }
   ],
   "source": [
    "post_days = df.ngay_dang.dropna().apply(lambda x: pd.to_datetime(x, dayfirst=True))\n",
    "\n",
    "first_day, last_day = post_days.min(), post_days.max()\n",
    "\n",
    "print(f'First day: {first_day}\\nLast day: {last_day}')"
   ]
  },
  {
   "cell_type": "markdown",
   "id": "2b3d6336",
   "metadata": {},
   "source": [
    "Encoding so_km"
   ]
  },
  {
   "cell_type": "code",
   "execution_count": 9,
   "id": "6108b21d",
   "metadata": {},
   "outputs": [],
   "source": [
    "import re\n",
    "\n",
    "df.so_km = df.so_km.apply(lambda x: float(re.sub(r'[^0-9]', '', x)))"
   ]
  },
  {
   "cell_type": "markdown",
   "id": "da457e2f",
   "metadata": {},
   "source": [
    "Encoding gia_ban"
   ]
  },
  {
   "cell_type": "code",
   "execution_count": null,
   "id": "5adff607",
   "metadata": {},
   "outputs": [],
   "source": [
    "def to_billions(text):\n",
    "    text = text.lower().strip()\n",
    "\n",
    "    ti = 0\n",
    "    trieu = 0\n",
    "\n",
    "    match_ti = re.search(r'(\\d+(?:[\\.,]\\d+)?)\\s*t[ỉi]', text)\n",
    "    if match_ti:\n",
    "        ti = float(match_ti.group(1).replace(',', '.'))\n",
    "\n",
    "    match_trieu = re.search(r'(\\d+(?:[\\.,]\\d+)?)\\s*triệu', text)\n",
    "    if match_trieu:\n",
    "        trieu = float(match_trieu.group(1).replace(',', '.'))\n",
    "\n",
    "    result = ti + trieu / 1000\n",
    "    return result"
   ]
  },
  {
   "cell_type": "code",
   "execution_count": null,
   "id": "63164fcd",
   "metadata": {},
   "outputs": [],
   "source": [
    "df.gia_ban = df.gia_ban.apply(to_billions)"
   ]
  },
  {
   "cell_type": "code",
   "execution_count": 17,
   "id": "5cdfc02c",
   "metadata": {},
   "outputs": [
    {
     "data": {
      "text/html": [
       "<div>\n",
       "<style scoped>\n",
       "    .dataframe tbody tr th:only-of-type {\n",
       "        vertical-align: middle;\n",
       "    }\n",
       "\n",
       "    .dataframe tbody tr th {\n",
       "        vertical-align: top;\n",
       "    }\n",
       "\n",
       "    .dataframe thead th {\n",
       "        text-align: right;\n",
       "    }\n",
       "</style>\n",
       "<table border=\"1\" class=\"dataframe\">\n",
       "  <thead>\n",
       "    <tr style=\"text-align: right;\">\n",
       "      <th></th>\n",
       "      <th>nam_sx</th>\n",
       "      <th>so_km</th>\n",
       "      <th>gia_ban</th>\n",
       "    </tr>\n",
       "  </thead>\n",
       "  <tbody>\n",
       "    <tr>\n",
       "      <th>count</th>\n",
       "      <td>5900.00</td>\n",
       "      <td>5900.00</td>\n",
       "      <td>5900.00</td>\n",
       "    </tr>\n",
       "    <tr>\n",
       "      <th>mean</th>\n",
       "      <td>2019.52</td>\n",
       "      <td>60640.38</td>\n",
       "      <td>0.84</td>\n",
       "    </tr>\n",
       "    <tr>\n",
       "      <th>std</th>\n",
       "      <td>4.82</td>\n",
       "      <td>162437.17</td>\n",
       "      <td>1.32</td>\n",
       "    </tr>\n",
       "    <tr>\n",
       "      <th>min</th>\n",
       "      <td>1989.00</td>\n",
       "      <td>0.00</td>\n",
       "      <td>0.03</td>\n",
       "    </tr>\n",
       "    <tr>\n",
       "      <th>25%</th>\n",
       "      <td>2017.00</td>\n",
       "      <td>5000.00</td>\n",
       "      <td>0.35</td>\n",
       "    </tr>\n",
       "    <tr>\n",
       "      <th>50%</th>\n",
       "      <td>2021.00</td>\n",
       "      <td>49999.50</td>\n",
       "      <td>0.52</td>\n",
       "    </tr>\n",
       "    <tr>\n",
       "      <th>75%</th>\n",
       "      <td>2023.00</td>\n",
       "      <td>85000.00</td>\n",
       "      <td>0.80</td>\n",
       "    </tr>\n",
       "    <tr>\n",
       "      <th>max</th>\n",
       "      <td>2025.00</td>\n",
       "      <td>11123456.00</td>\n",
       "      <td>26.79</td>\n",
       "    </tr>\n",
       "  </tbody>\n",
       "</table>\n",
       "</div>"
      ],
      "text/plain": [
       "       nam_sx       so_km  gia_ban\n",
       "count 5900.00     5900.00  5900.00\n",
       "mean  2019.52    60640.38     0.84\n",
       "std      4.82   162437.17     1.32\n",
       "min   1989.00        0.00     0.03\n",
       "25%   2017.00     5000.00     0.35\n",
       "50%   2021.00    49999.50     0.52\n",
       "75%   2023.00    85000.00     0.80\n",
       "max   2025.00 11123456.00    26.79"
      ]
     },
     "execution_count": 17,
     "metadata": {},
     "output_type": "execute_result"
    }
   ],
   "source": [
    "df.describe()"
   ]
  },
  {
   "cell_type": "markdown",
   "id": "60cbb5fc",
   "metadata": {},
   "source": [
    "Nhận xét:\n",
    "- so_km có giá trị ngoại lai 11123456.00, tương đương khoảng 270 vòng trái đất\n",
    "- Trung bình cao so với trung vị (phân vị 50%)\n",
    "- Phương sai rất cao (162437.17 ^ 2)"
   ]
  },
  {
   "cell_type": "markdown",
   "id": "9e6fdac2",
   "metadata": {},
   "source": [
    "# 2. Xử lý missing"
   ]
  },
  {
   "cell_type": "code",
   "execution_count": 18,
   "id": "be6c53f2",
   "metadata": {},
   "outputs": [
    {
     "data": {
      "text/plain": [
       "url               0\n",
       "ten_san_pham      0\n",
       "ngay_dang         0\n",
       "nam_sx            0\n",
       "nhien_lieu        0\n",
       "kieu_dang       178\n",
       "tinh_trang        0\n",
       "so_km             0\n",
       "hop_so            0\n",
       "xuat_xu          95\n",
       "dia_diem          0\n",
       "gia_ban           0\n",
       "dtype: int64"
      ]
     },
     "execution_count": 18,
     "metadata": {},
     "output_type": "execute_result"
    }
   ],
   "source": [
    "df.isna().sum()"
   ]
  },
  {
   "cell_type": "code",
   "execution_count": 22,
   "id": "44d6c50e",
   "metadata": {},
   "outputs": [],
   "source": [
    "df.kieu_dang = df.kieu_dang.fillna(df.kieu_dang.mode()[0])"
   ]
  },
  {
   "cell_type": "code",
   "execution_count": 19,
   "id": "22b0d8ed",
   "metadata": {},
   "outputs": [],
   "source": [
    "median_price = df.gia_ban.median()\n",
    "\n",
    "mask = df.xuat_xu.isna()\n",
    "df.loc[mask & (df['gia_ban'] < median_price), 'xuat_xu'] = 'Trong nước'\n",
    "df.loc[mask & (df['gia_ban'] >= median_price), 'xuat_xu'] = 'Nhập khẩu'"
   ]
  },
  {
   "cell_type": "markdown",
   "id": "85713c33",
   "metadata": {},
   "source": [
    "# 3. Xử lý outliers"
   ]
  },
  {
   "cell_type": "code",
   "execution_count": 26,
   "id": "18c98e1e",
   "metadata": {},
   "outputs": [
    {
     "name": "stdout",
     "output_type": "stream",
     "text": [
      "Số lượng outlier: 117\n",
      "Phần trăm outlier: 1.9830508474576272\n",
      "Top 5 outliers lớn nhất [11123456.0, 990000.0, 955000.0, 910000.0, 900000.0]\n"
     ]
    }
   ],
   "source": [
    "q1 = df.so_km.quantile(0.25)\n",
    "q3 = df.so_km.quantile(0.75)\n",
    "\n",
    "iqr = q3 - q1\n",
    "\n",
    "lower_bound = q1 - 1.5 * iqr\n",
    "upper_bound = q3 + 1.5 * iqr\n",
    "\n",
    "outliers = df[(df['so_km'] < lower_bound) | (df['so_km'] > upper_bound)]\n",
    "\n",
    "print(\"Số lượng outlier:\", len(outliers))\n",
    "print(\"Phần trăm outlier:\", len(outliers) / df.shape[0] * 100)\n",
    "print(\"Top 5 outliers lớn nhất\", sorted(outliers.so_km, reverse=True)[:5])"
   ]
  },
  {
   "cell_type": "code",
   "execution_count": 28,
   "id": "08f20d69",
   "metadata": {},
   "outputs": [
    {
     "data": {
      "image/png": "[encoded data removed]",
      "text/plain": [
       "<Figure size 800x500 with 1 Axes>"
      ]
     },
     "metadata": {},
     "output_type": "display_data"
    }
   ],
   "source": [
    "import matplotlib.pyplot as plt\n",
    "\n",
    "plt.figure(figsize=(8, 5))\n",
    "plt.boxplot(df.so_km.drop(df.so_km.idxmax()), vert=False)\n",
    "plt.show()"
   ]
  },
  {
   "cell_type": "code",
   "execution_count": 29,
   "id": "e3d4a010",
   "metadata": {},
   "outputs": [],
   "source": [
    "df.so_km = df.so_km.clip(upper=upper_bound)"
   ]
  },
  {
   "cell_type": "code",
   "execution_count": 30,
   "id": "0f46faf5",
   "metadata": {},
   "outputs": [
    {
     "data": {
      "text/plain": [
       "count     5900.00\n",
       "mean     54672.87\n",
       "std      51315.82\n",
       "min          0.00\n",
       "25%       5000.00\n",
       "50%      49999.50\n",
       "75%      85000.00\n",
       "max     205000.00\n",
       "Name: so_km, dtype: float64"
      ]
     },
     "execution_count": 30,
     "metadata": {},
     "output_type": "execute_result"
    }
   ],
   "source": [
    "df.so_km.describe()"
   ]
  },
  {
   "cell_type": "code",
   "execution_count": 41,
   "id": "1bec9613",
   "metadata": {},
   "outputs": [],
   "source": [
    "df = df.sample(frac=1, random_state=42).reset_index(drop=True)\n",
    "df.to_csv('../data/cleaned.csv', index=False, encoding='utf-8')"
   ]
  },
  {
   "cell_type": "markdown",
   "id": "ed4d6e14",
   "metadata": {},
   "source": [
    "# 4. Scaling"
   ]
  },
  {
   "cell_type": "code",
   "execution_count": 42,
   "id": "2296f703",
   "metadata": {},
   "outputs": [],
   "source": [
    "from sklearn.preprocessing import StandardScaler\n",
    "\n",
    "scaler = StandardScaler()\n",
    "\n",
    "df_scaled = df.copy()\n",
    "\n",
    "float_cols = df.select_dtypes([float, int]).columns\n",
    "df_scaled[[col + '_scaled' for col in float_cols]] = scaler.fit_transform(df[float_cols])"
   ]
  },
  {
   "cell_type": "code",
   "execution_count": 43,
   "id": "7b8a0fbf",
   "metadata": {},
   "outputs": [],
   "source": [
    "df_scaled.to_csv('../data/scaled.csv')"
   ]
  }
 ],
 "metadata": {
  "kernelspec": {
   "display_name": "Python 3",
   "language": "python",
   "name": "python3"
  },
  "language_info": {
   "codemirror_mode": {
    "name": "ipython",
    "version": 3
   },
   "file_extension": ".py",
   "mimetype": "text/x-python",
   "name": "python",
   "nbconvert_exporter": "python",
   "pygments_lexer": "ipython3",
   "version": "3.10.11"
  }
 },
 "nbformat": 4,
 "nbformat_minor": 5
}
